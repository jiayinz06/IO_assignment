{
 "cells": [
  {
   "cell_type": "code",
   "execution_count": 1,
   "metadata": {},
   "outputs": [],
   "source": [
    "using Random, Distributions\n",
    "using LinearAlgebra, Statistics\n",
    "using CSV, DataFrames\n",
    "using Plots\n",
    "using GLM, Econometrics"
   ]
  },
  {
   "cell_type": "code",
   "execution_count": 2,
   "metadata": {},
   "outputs": [],
   "source": [
    "df = DataFrame(CSV.File(\"/Users/yinyin/Documents/GitHub/IO_spring/autodata.csv\",delim=','))\n",
    "a = 0.5\n",
    "b = 1.5;"
   ]
  },
  {
   "cell_type": "code",
   "execution_count": 3,
   "metadata": {},
   "outputs": [
    {
     "data": {
      "text/html": [
       "<table class=\"data-frame\"><thead><tr><th></th><th>Name</th><th>AC</th><th>Weight</th><th>Horsepower</th><th>Quantity</th><th>FirmID</th><th>p</th></tr><tr><th></th><th>String</th><th>Int64</th><th>Int64</th><th>Int64</th><th>Int64</th><th>Int64</th><th>Int64</th></tr></thead><tbody><p>131 rows × 7 columns</p><tr><th>1</th><td>YGGVPL</td><td>0</td><td>1870</td><td>67</td><td>6359</td><td>23</td><td>4435</td></tr><tr><th>2</th><td>SBJUST</td><td>0</td><td>1820</td><td>73</td><td>14363</td><td>5</td><td>5866</td></tr><tr><th>3</th><td>HYEXCE</td><td>0</td><td>2040</td><td>81</td><td>100590</td><td>21</td><td>5899</td></tr><tr><th>4</th><td>MTPREC</td><td>0</td><td>2336</td><td>76</td><td>4665</td><td>10</td><td>5899</td></tr><tr><th>5</th><td>GOMETR</td><td>0</td><td>1620</td><td>55</td><td>52409</td><td>19</td><td>5995</td></tr><tr><th>6</th><td>FDFEST</td><td>0</td><td>1785</td><td>63</td><td>52520</td><td>18</td><td>6319</td></tr><tr><th>7</th><td>TYTERC</td><td>0</td><td>2020</td><td>78</td><td>90808</td><td>1</td><td>6488</td></tr><tr><th>8</th><td>MZ323</td><td>0</td><td>2238</td><td>82</td><td>22977</td><td>4</td><td>6599</td></tr><tr><th>9</th><td>HDCIVI</td><td>0</td><td>2127</td><td>70</td><td>187240</td><td>3</td><td>6635</td></tr><tr><th>10</th><td>DGCOLT</td><td>0</td><td>2194</td><td>81</td><td>39602</td><td>16</td><td>6851</td></tr><tr><th>11</th><td>MTMIRA</td><td>0</td><td>2205</td><td>81</td><td>49679</td><td>10</td><td>6929</td></tr><tr><th>12</th><td>VWFOX</td><td>0</td><td>2172</td><td>81</td><td>22640</td><td>7</td><td>7225</td></tr><tr><th>13</th><td>PTLEMA</td><td>0</td><td>2136</td><td>74</td><td>39081</td><td>19</td><td>7254</td></tr><tr><th>14</th><td>NISENT</td><td>0</td><td>2304</td><td>90</td><td>49479</td><td>2</td><td>7399</td></tr><tr><th>15</th><td>FDESCO</td><td>0</td><td>2242</td><td>90</td><td>288727</td><td>18</td><td>7402</td></tr><tr><th>16</th><td>CVCAVA</td><td>0</td><td>2465</td><td>95</td><td>295123</td><td>19</td><td>7577</td></tr><tr><th>17</th><td>VWGOLF</td><td>0</td><td>2220</td><td>100</td><td>17122</td><td>7</td><td>8695</td></tr><tr><th>18</th><td>TYCORO</td><td>0</td><td>2390</td><td>102</td><td>228211</td><td>1</td><td>8748</td></tr><tr><th>19</th><td>DGSHAD</td><td>0</td><td>2610</td><td>93</td><td>33384</td><td>16</td><td>8785</td></tr><tr><th>20</th><td>PTSUNB</td><td>0</td><td>2478</td><td>96</td><td>123421</td><td>19</td><td>8799</td></tr><tr><th>21</th><td>PLSUND</td><td>0</td><td>2615</td><td>93</td><td>65590</td><td>16</td><td>8845</td></tr><tr><th>22</th><td>EGSUMM</td><td>0</td><td>2271</td><td>81</td><td>1037</td><td>16</td><td>8895</td></tr><tr><th>23</th><td>MCTRAC</td><td>0</td><td>2240</td><td>82</td><td>34494</td><td>18</td><td>8969</td></tr><tr><th>24</th><td>FDMUST</td><td>0</td><td>2759</td><td>88</td><td>124135</td><td>18</td><td>9456</td></tr><tr><th>25</th><td>FDTEMP</td><td>0</td><td>2529</td><td>98</td><td>215290</td><td>18</td><td>9483</td></tr><tr><th>26</th><td>CVCORS</td><td>0</td><td>2635</td><td>95</td><td>277176</td><td>19</td><td>9495</td></tr><tr><th>27</th><td>DGDAYT</td><td>0</td><td>2798</td><td>100</td><td>34253</td><td>16</td><td>9745</td></tr><tr><th>28</th><td>ODCTLS</td><td>0</td><td>2518</td><td>110</td><td>103034</td><td>19</td><td>9995</td></tr><tr><th>29</th><td>VWJETT</td><td>0</td><td>2275</td><td>100</td><td>58314</td><td>7</td><td>9995</td></tr><tr><th>30</th><td>HYSONA</td><td>0</td><td>2717</td><td>116</td><td>29840</td><td>21</td><td>9999</td></tr><tr><th>&vellip;</th><td>&vellip;</td><td>&vellip;</td><td>&vellip;</td><td>&vellip;</td><td>&vellip;</td><td>&vellip;</td><td>&vellip;</td></tr></tbody></table>"
      ],
      "text/latex": [
       "\\begin{tabular}{r|ccccccc}\n",
       "\t& Name & AC & Weight & Horsepower & Quantity & FirmID & p\\\\\n",
       "\t\\hline\n",
       "\t& String & Int64 & Int64 & Int64 & Int64 & Int64 & Int64\\\\\n",
       "\t\\hline\n",
       "\t1 & YGGVPL & 0 & 1870 & 67 & 6359 & 23 & 4435 \\\\\n",
       "\t2 & SBJUST & 0 & 1820 & 73 & 14363 & 5 & 5866 \\\\\n",
       "\t3 & HYEXCE & 0 & 2040 & 81 & 100590 & 21 & 5899 \\\\\n",
       "\t4 & MTPREC & 0 & 2336 & 76 & 4665 & 10 & 5899 \\\\\n",
       "\t5 & GOMETR & 0 & 1620 & 55 & 52409 & 19 & 5995 \\\\\n",
       "\t6 & FDFEST & 0 & 1785 & 63 & 52520 & 18 & 6319 \\\\\n",
       "\t7 & TYTERC & 0 & 2020 & 78 & 90808 & 1 & 6488 \\\\\n",
       "\t8 & MZ323 & 0 & 2238 & 82 & 22977 & 4 & 6599 \\\\\n",
       "\t9 & HDCIVI & 0 & 2127 & 70 & 187240 & 3 & 6635 \\\\\n",
       "\t10 & DGCOLT & 0 & 2194 & 81 & 39602 & 16 & 6851 \\\\\n",
       "\t11 & MTMIRA & 0 & 2205 & 81 & 49679 & 10 & 6929 \\\\\n",
       "\t12 & VWFOX & 0 & 2172 & 81 & 22640 & 7 & 7225 \\\\\n",
       "\t13 & PTLEMA & 0 & 2136 & 74 & 39081 & 19 & 7254 \\\\\n",
       "\t14 & NISENT & 0 & 2304 & 90 & 49479 & 2 & 7399 \\\\\n",
       "\t15 & FDESCO & 0 & 2242 & 90 & 288727 & 18 & 7402 \\\\\n",
       "\t16 & CVCAVA & 0 & 2465 & 95 & 295123 & 19 & 7577 \\\\\n",
       "\t17 & VWGOLF & 0 & 2220 & 100 & 17122 & 7 & 8695 \\\\\n",
       "\t18 & TYCORO & 0 & 2390 & 102 & 228211 & 1 & 8748 \\\\\n",
       "\t19 & DGSHAD & 0 & 2610 & 93 & 33384 & 16 & 8785 \\\\\n",
       "\t20 & PTSUNB & 0 & 2478 & 96 & 123421 & 19 & 8799 \\\\\n",
       "\t21 & PLSUND & 0 & 2615 & 93 & 65590 & 16 & 8845 \\\\\n",
       "\t22 & EGSUMM & 0 & 2271 & 81 & 1037 & 16 & 8895 \\\\\n",
       "\t23 & MCTRAC & 0 & 2240 & 82 & 34494 & 18 & 8969 \\\\\n",
       "\t24 & FDMUST & 0 & 2759 & 88 & 124135 & 18 & 9456 \\\\\n",
       "\t25 & FDTEMP & 0 & 2529 & 98 & 215290 & 18 & 9483 \\\\\n",
       "\t26 & CVCORS & 0 & 2635 & 95 & 277176 & 19 & 9495 \\\\\n",
       "\t27 & DGDAYT & 0 & 2798 & 100 & 34253 & 16 & 9745 \\\\\n",
       "\t28 & ODCTLS & 0 & 2518 & 110 & 103034 & 19 & 9995 \\\\\n",
       "\t29 & VWJETT & 0 & 2275 & 100 & 58314 & 7 & 9995 \\\\\n",
       "\t30 & HYSONA & 0 & 2717 & 116 & 29840 & 21 & 9999 \\\\\n",
       "\t$\\dots$ & $\\dots$ & $\\dots$ & $\\dots$ & $\\dots$ & $\\dots$ & $\\dots$ & $\\dots$ \\\\\n",
       "\\end{tabular}\n"
      ],
      "text/plain": [
       "131×7 DataFrame\n",
       "│ Row │ Name   │ AC    │ Weight │ Horsepower │ Quantity │ FirmID │ p     │\n",
       "│     │ \u001b[90mString\u001b[39m │ \u001b[90mInt64\u001b[39m │ \u001b[90mInt64\u001b[39m  │ \u001b[90mInt64\u001b[39m      │ \u001b[90mInt64\u001b[39m    │ \u001b[90mInt64\u001b[39m  │ \u001b[90mInt64\u001b[39m │\n",
       "├─────┼────────┼───────┼────────┼────────────┼──────────┼────────┼───────┤\n",
       "│ 1   │ YGGVPL │ 0     │ 1870   │ 67         │ 6359     │ 23     │ 4435  │\n",
       "│ 2   │ SBJUST │ 0     │ 1820   │ 73         │ 14363    │ 5      │ 5866  │\n",
       "│ 3   │ HYEXCE │ 0     │ 2040   │ 81         │ 100590   │ 21     │ 5899  │\n",
       "│ 4   │ MTPREC │ 0     │ 2336   │ 76         │ 4665     │ 10     │ 5899  │\n",
       "│ 5   │ GOMETR │ 0     │ 1620   │ 55         │ 52409    │ 19     │ 5995  │\n",
       "│ 6   │ FDFEST │ 0     │ 1785   │ 63         │ 52520    │ 18     │ 6319  │\n",
       "│ 7   │ TYTERC │ 0     │ 2020   │ 78         │ 90808    │ 1      │ 6488  │\n",
       "│ 8   │ MZ323  │ 0     │ 2238   │ 82         │ 22977    │ 4      │ 6599  │\n",
       "│ 9   │ HDCIVI │ 0     │ 2127   │ 70         │ 187240   │ 3      │ 6635  │\n",
       "│ 10  │ DGCOLT │ 0     │ 2194   │ 81         │ 39602    │ 16     │ 6851  │\n",
       "⋮\n",
       "│ 121 │ INQ45  │ 1     │ 3950   │ 278        │ 13908    │ 2      │ 38000 │\n",
       "│ 122 │ JGXJ6  │ 1     │ 3903   │ 223        │ 4013     │ 22     │ 39700 │\n",
       "│ 123 │ MB300D │ 1     │ 3390   │ 121        │ 24400    │ 9      │ 39700 │\n",
       "│ 124 │ BW535i │ 1     │ 3530   │ 208        │ 22524    │ 8      │ 41500 │\n",
       "│ 125 │ PS944  │ 1     │ 2998   │ 208        │ 2348     │ 12     │ 41900 │\n",
       "│ 126 │ JGXJS  │ 1     │ 4015   │ 262        │ 4715     │ 22     │ 48000 │\n",
       "│ 127 │ BW735i │ 1     │ 3835   │ 208        │ 10460    │ 8      │ 49000 │\n",
       "│ 128 │ CDALLA │ 1     │ 3446   │ 200        │ 3407     │ 19     │ 53050 │\n",
       "│ 129 │ PS911C │ 1     │ 3031   │ 247        │ 3650     │ 12     │ 58500 │\n",
       "│ 130 │ MB420S │ 1     │ 3915   │ 201        │ 6715     │ 9      │ 62500 │\n",
       "│ 131 │ MB560S │ 1     │ 4100   │ 238        │ 4772     │ 9      │ 73800 │"
      ]
     },
     "execution_count": 3,
     "metadata": {},
     "output_type": "execute_result"
    }
   ],
   "source": [
    "rename!(df,:\"Air Conditioning\" => :AC)\n",
    "rename!(df,:\"Weight of Car\" => :Weight)\n",
    "df.FirmID = df.\"Firm ID (there is a different number for each firm)\"\n",
    "df.p = df.\"Price(\\$1000) (list price)\"\n",
    "select!(df, Not(:\"Firm ID (there is a different number for each firm)\"))\n",
    "select!(df, Not(:\"Price(\\$1000) (list price)\"))\n",
    "\n",
    "#rank products by price (quality)\n",
    "df = sort(df,:p) "
   ]
  },
  {
   "cell_type": "code",
   "execution_count": 4,
   "metadata": {},
   "outputs": [],
   "source": [
    "# Calculate market share, assume outside good account for 30%\n",
    "df.s = 0.3*df.Quantity./sum(df.Quantity);"
   ]
  },
  {
   "cell_type": "code",
   "execution_count": 5,
   "metadata": {},
   "outputs": [],
   "source": [
    "# Calculate \\Delta recursively\n",
    "N = length(df.p)\n",
    "df.Δ = zeros(N)\n",
    "df.Δ[N]= (b-a)*(1-df.s[N])+a\n",
    "for i in 1:(N-1)\n",
    "    df.Δ[N-i] = df.Δ[N-i+1] - df.s[N-i]*(b-a)\n",
    "end"
   ]
  },
  {
   "cell_type": "code",
   "execution_count": 6,
   "metadata": {},
   "outputs": [],
   "source": [
    "# Calculate quality recursively\n",
    "df.δ = zeros(N)\n",
    "df.δ[1] = df.p[1]/df.Δ[1]\n",
    "for i in 2:N\n",
    "    df.δ[i] = df.δ[i-1] + (df.p[i]-df.p[i-1])/df.Δ[i]\n",
    "end"
   ]
  },
  {
   "cell_type": "code",
   "execution_count": 7,
   "metadata": {},
   "outputs": [
    {
     "data": {
      "text/plain": [
       "StatsModels.TableRegressionModel{LinearModel{GLM.LmResp{Array{Float64,1}},GLM.DensePredChol{Float64,CholeskyPivoted{Float64,Array{Float64,2}}}},Array{Float64,2}}\n",
       "\n",
       "δ ~ 1 + AC + Horsepower + Weight\n",
       "\n",
       "Coefficients:\n",
       "────────────────────────────────────────────────────────────────────────────────\n",
       "                    Coef.  Std. Error      t  Pr(>|t|)     Lower 95%   Upper 95%\n",
       "────────────────────────────────────────────────────────────────────────────────\n",
       "(Intercept)  -5956.48      3016.62     -1.97    0.0505  -11925.8        12.8676\n",
       "AC            3001.16      1399.09      2.15    0.0338     232.618    5769.7\n",
       "Horsepower     118.603       15.6951    7.56    <1e-11      87.5455    149.661\n",
       "Weight           0.935137     1.37158   0.68    0.4966      -1.77897     3.64925\n",
       "────────────────────────────────────────────────────────────────────────────────"
      ]
     },
     "execution_count": 7,
     "metadata": {},
     "output_type": "execute_result"
    }
   ],
   "source": [
    "d1 = lm(@formula( δ ~ AC + Horsepower + Weight), df) # Without firm dummy"
   ]
  },
  {
   "cell_type": "code",
   "execution_count": 8,
   "metadata": {},
   "outputs": [
    {
     "data": {
      "text/plain": [
       "StatsModels.TableRegressionModel{LinearModel{GLM.LmResp{Array{Float64,1}},GLM.DensePredChol{Float64,CholeskyPivoted{Float64,Array{Float64,2}}}},Array{Float64,2}}\n",
       "\n",
       "δ ~ 1 + AC + Horsepower + Weight + FirmID\n",
       "\n",
       "Coefficients:\n",
       "─────────────────────────────────────────────────────────────────────────────────\n",
       "                   Coef.  Std. Error      t  Pr(>|t|)      Lower 95%    Upper 95%\n",
       "─────────────────────────────────────────────────────────────────────────────────\n",
       "(Intercept)  -8496.01      2688.87    -3.16    0.0020  -13825.8       -3166.2\n",
       "AC             637.361     1184.67     0.54    0.5917   -1710.86       2985.58\n",
       "Horsepower      96.1109      14.6762   6.55    <1e-8       67.0202      125.202\n",
       "Weight           2.54786      1.1854   2.15    0.0338       0.198183      4.89754\n",
       "FirmID: 2     -263.6       1631.93    -0.16    0.8720   -3498.36       2971.16\n",
       "FirmID: 3     1231.37      1883.31     0.65    0.5146   -2501.67       4964.4\n",
       "FirmID: 4     1459.65      1886.88     0.77    0.4409   -2280.48       5199.78\n",
       "FirmID: 5     1282.44      2265.95     0.57    0.5726   -3209.06       5773.94\n",
       "FirmID: 6     6596.3       2377.63     2.77    0.0065    1883.42      11309.2\n",
       "FirmID: 7     3660.27      1648.76     2.22    0.0285     392.127      6928.4\n",
       "FirmID: 8     8202.09      2272.93     3.61    0.0005    3696.75      12707.4\n",
       "FirmID: 9    18186.3       2066.65     8.80    <1e-13   14089.9       22282.8\n",
       "FirmID: 10     990.184     2078.84     0.48    0.6348   -3130.45       5110.82\n",
       "FirmID: 11    3502.63      2710.9      1.29    0.1991   -1870.85       8876.11\n",
       "FirmID: 12   13910.2       2823.02     4.93    <1e-5     8314.5       19505.9\n",
       "FirmID: 13    -406.54      3550.62    -0.11    0.9091   -7444.48       6631.4\n",
       "FirmID: 16     564.952     1476.72     0.38    0.7028   -2362.15       3492.06\n",
       "FirmID: 18     452.069     1493.47     0.30    0.7627   -2508.24       3412.38\n",
       "FirmID: 19     354.477     1278.05     0.28    0.7820   -2178.84       2887.8\n",
       "FirmID: 20    6442.54      3543.73     1.82    0.0718    -581.752     13466.8\n",
       "FirmID: 21    -463.438     2647.33    -0.18    0.8614   -5710.91       4784.03\n",
       "FirmID: 22    5826.41      2747.96     2.12    0.0363     379.47      11273.3\n",
       "FirmID: 23     987.908     3609.67     0.27    0.7849   -6167.08       8142.89\n",
       "─────────────────────────────────────────────────────────────────────────────────"
      ]
     },
     "execution_count": 8,
     "metadata": {},
     "output_type": "execute_result"
    }
   ],
   "source": [
    "d2 = lm(@formula( δ ~ AC + Horsepower + Weight + FirmID), df, contrasts = Dict(:FirmID => DummyCoding())) # With firm dummy"
   ]
  },
  {
   "cell_type": "code",
   "execution_count": 9,
   "metadata": {},
   "outputs": [
    {
     "data": {
      "text/plain": [
       "0.8702493910564055"
      ]
     },
     "execution_count": 9,
     "metadata": {},
     "output_type": "execute_result"
    }
   ],
   "source": [
    "# R^2\n",
    "r2(d1)\n",
    "r2(d2)"
   ]
  },
  {
   "cell_type": "code",
   "execution_count": 10,
   "metadata": {},
   "outputs": [
    {
     "data": {
      "text/plain": [
       "Continuous Response Model\n",
       "Number of observations: 131\n",
       "Null Loglikelihood: -1655.63\n",
       "Loglikelihood: -1619.94\n",
       "R-squared: NaN\n",
       "LR Test: 71.38 ∼ χ²(23) ⟹  Pr > χ² = 0.0000\n",
       "Formula: Quantity ~ 1 + (p ~ xi) + AC + Horsepower + Weight + FirmID\n",
       "Variance Covariance Estimator: OIM\n",
       "──────────────────────────────────────────────────────────────────────────────────────────────\n",
       "                     PE           SE        t-value  Pr > |t|            2.50%          97.50%\n",
       "──────────────────────────────────────────────────────────────────────────────────────────────\n",
       "(Intercept)    45714.5      52799.3       0.865816     0.3885   -58965.3             1.50394e5\n",
       "AC            -49257.6      22128.6      -2.22596      0.0281   -93129.8         -5385.39\n",
       "Horsepower      -159.963      322.39     -0.49618      0.6208     -799.133         479.206\n",
       "Weight            44.7785      22.4916    1.9909       0.0491        0.186689       89.3703\n",
       "FirmID: 2     -39762.0      30453.3      -1.30567      0.1945       -1.00139e5   20614.6\n",
       "FirmID: 3      55847.2      35202.7       1.58645      0.1156   -13945.5             1.2564e5\n",
       "FirmID: 4     -66638.3      35294.5      -1.88807      0.0618       -1.36613e5    3336.46\n",
       "FirmID: 5     -87138.9      42341.6      -2.058        0.0420       -1.71085e5   -3192.61\n",
       "FirmID: 6     -23102.7      45840.4      -0.503981     0.6153       -1.13986e5   67780.4\n",
       "FirmID: 7     -62610.8      31424.4      -1.99243      0.0489       -1.24913e5    -308.84\n",
       "FirmID: 8       -820.472    44904.9      -0.0182713    0.9855   -89848.8         88207.8\n",
       "FirmID: 9      13504.6      50650.8       0.266621     0.7903   -86915.7             1.13925e5\n",
       "FirmID: 10    -82715.9      38841.7      -2.12956      0.0355       -1.59723e5   -5708.4\n",
       "FirmID: 11    -45272.4      50930.7      -0.888902     0.3761       -1.46248e5   55702.7\n",
       "FirmID: 12     33202.2      58293.6       0.569568     0.5702   -82370.6        148775.0\n",
       "FirmID: 13    -99614.7      66257.4      -1.50345      0.1357       -2.30976e5   31747.0\n",
       "FirmID: 16    -70632.6      27571.8      -2.56177      0.0118       -1.25296e5  -15968.8\n",
       "FirmID: 18     19271.7      27881.3       0.691203     0.4909   -36005.8         74549.1\n",
       "FirmID: 19      3835.32     23856.2       0.160768     0.8726   -43461.9         51132.5\n",
       "FirmID: 20    -86793.5      67015.3      -1.29513      0.1981       -2.19658e5   46070.9\n",
       "FirmID: 21    -51415.3      49397.2      -1.04086      0.3003       -1.4935e5    46519.4\n",
       "FirmID: 22    -21170.4      52419.2      -0.403868     0.6871       -1.25097e5   82755.8\n",
       "FirmID: 23   -101308.0      67408.0      -1.50291      0.1358  -234951.0         32334.9\n",
       "p                 -2.49508      1.20669  -2.06771      0.0411       -4.88746        -0.102703\n",
       "──────────────────────────────────────────────────────────────────────────────────────────────"
      ]
     },
     "execution_count": 10,
     "metadata": {},
     "output_type": "execute_result"
    }
   ],
   "source": [
    "#### Marginal Cost Pricing ###\n",
    "df.xi = df.δ - predict(d2); # instruments for p - demand shifter\n",
    "model_c = fit(EconometricModel,@formula(Quantity ~ (p ~ xi) + AC + Horsepower + Weight + FirmID),df,contrasts = Dict(:FirmID => DummyCoding()))"
   ]
  },
  {
   "cell_type": "code",
   "execution_count": 11,
   "metadata": {},
   "outputs": [],
   "source": [
    "#### Firm Pricing #### \n",
    "\n",
    "# Cooperation structure\n",
    "H = zeros(N,N)\n",
    "for i in 1:N\n",
    "    H[i,i]=1\n",
    "end\n",
    "for i in 1:(N-1)\n",
    "    if (df.FirmID[i] == df.FirmID[i+1]) \n",
    "        H[i,i+1]=1\n",
    "        H[i+1,i]=1\n",
    "    end\n",
    "end"
   ]
  },
  {
   "cell_type": "code",
   "execution_count": 12,
   "metadata": {},
   "outputs": [
    {
     "data": {
      "text/plain": [
       "Continuous Response Model\n",
       "Number of observations: 131\n",
       "Null Loglikelihood: -1655.63\n",
       "Loglikelihood: -1619.94\n",
       "R-squared: NaN\n",
       "LR Test: 71.38 ∼ χ²(23) ⟹  Pr > χ² = 0.0000\n",
       "Formula: Quantity ~ 1 + (x1 ~ xi) + AC + Horsepower + Weight + FirmID\n",
       "Variance Covariance Estimator: OIM\n",
       "──────────────────────────────────────────────────────────────────────────────────────────────\n",
       "                      PE           SE        t-value  Pr > |t|           2.50%          97.50%\n",
       "──────────────────────────────────────────────────────────────────────────────────────────────\n",
       "(Intercept)   45715.4        52799.0       0.865839     0.3885  -58963.7             1.50394e5\n",
       "AC           -49257.4        22128.6      -2.22596      0.0281  -93129.4         -5385.35\n",
       "Horsepower     -159.972        322.387    -0.49621      0.6208    -799.134         479.191\n",
       "Weight           44.7784        22.4915    1.9909       0.0491       0.186781       89.37\n",
       "FirmID: 2    -39761.7        30453.2      -1.30567      0.1945      -1.00138e5   20614.7\n",
       "FirmID: 3     55847.2        35202.5       1.58645      0.1156  -13945.3             1.2564e5\n",
       "FirmID: 4    -66638.2        35294.4      -1.88807      0.0618      -1.36613e5    3336.27\n",
       "FirmID: 5    -87138.9        42341.4      -2.058        0.0420      -1.71085e5   -3192.85\n",
       "FirmID: 6    -23102.7        45840.2      -0.503982     0.6153      -1.13985e5   67780.0\n",
       "FirmID: 7    -62610.7        31424.3      -1.99243      0.0489      -1.24912e5    -308.929\n",
       "FirmID: 8      -820.046      44904.8      -0.0182619    0.9855  -89848.1         88208.1\n",
       "FirmID: 9     13503.1        50650.2       0.266595     0.7903  -86915.8        113922.0\n",
       "FirmID: 10   -82715.9        38841.5      -2.12957      0.0355      -1.59723e5   -5708.76\n",
       "FirmID: 11   -45272.2        50930.5      -0.888901     0.3761      -1.46247e5   55702.6\n",
       "FirmID: 12    33202.9        58293.5       0.569582     0.5702  -82369.7             1.48776e5\n",
       "FirmID: 13   -99614.3        66257.1      -1.50345      0.1357      -2.30976e5   31746.9\n",
       "FirmID: 16   -70632.6        27571.7      -2.56178      0.0118      -1.25296e5  -15969.0\n",
       "FirmID: 18    19271.3        27881.2       0.691192     0.4910  -36005.9         74548.4\n",
       "FirmID: 19     3834.97       23856.1       0.160754     0.8726  -43462.0         51132.0\n",
       "FirmID: 20   -86793.2        67015.1      -1.29513      0.1981      -2.19657e5   46070.7\n",
       "FirmID: 21   -51415.2        49397.0      -1.04086      0.3003      -1.4935e5    46519.1\n",
       "FirmID: 22   -21169.3        52419.1      -0.403847     0.6871      -1.25095e5   82756.7\n",
       "FirmID: 23       -1.01309e5  67407.7      -1.50292      0.1358      -2.34951e5   32333.7\n",
       "x1               -2.49508        1.20669  -2.06772      0.0411      -4.88745        -0.102713\n",
       "──────────────────────────────────────────────────────────────────────────────────────────────"
      ]
     },
     "execution_count": 12,
     "metadata": {},
     "output_type": "execute_result"
    }
   ],
   "source": [
    "T1 = zeros(N,N)\n",
    "T1[1,1] = -(1/(df.δ[2]-df.δ[1])+1/df.δ[1])/(b-a)\n",
    "T1[1,2] = (H[1,2]/(df.δ[2]-df.δ[1]))/(b-a)\n",
    "T1[N,N] = -(1/(df.δ[N]-df.δ[N-1]))/(b-a)\n",
    "T1[N,N-1] = (H[N,N-1]/(df.δ[N]-df.δ[N-1]))/(b-a)\n",
    "\n",
    "for j in 2:(N-1)\n",
    "    x = min(1/(df.δ[j+1]-df.δ[j]),1000)\n",
    "    y = min(1/(df.δ[j]-df.δ[j-1]),1000)\n",
    "    T1[j,j] = -(x+y)/(b-a)\n",
    "    if H[j,j+1]==1\n",
    "        T1[j,j+1] = min((1/(df.δ[j+1]-df.δ[j]))/(b-a),1000)\n",
    "    end\n",
    "    if H[j,j-1]==1\n",
    "        T1[j,j-1] = min((1/(df.δ[j]-df.δ[j-1]))/(b-a),1000) \n",
    "    end\n",
    "end\n",
    "\n",
    "df.x1 = df.p + inv(T1)*df.s\n",
    "model1 = fit(EconometricModel,@formula(Quantity ~ (x1 ~ xi) + AC + Horsepower + Weight + FirmID),df,contrasts = Dict(:FirmID => DummyCoding()))"
   ]
  },
  {
   "cell_type": "code",
   "execution_count": 18,
   "metadata": {},
   "outputs": [
    {
     "data": {
      "text/plain": [
       "Continuous Response Model\n",
       "Number of observations: 131\n",
       "Null Loglikelihood: -1655.63\n",
       "Loglikelihood: -1620.06\n",
       "R-squared: NaN\n",
       "LR Test: 71.15 ∼ χ²(23) ⟹  Pr > χ² = 0.0000\n",
       "Formula: Quantity ~ 1 + (x2 ~ xi) + AC + Horsepower + Weight + FirmID\n",
       "Variance Covariance Estimator: OIM\n",
       "──────────────────────────────────────────────────────────────────────────────────────────────\n",
       "                      PE           SE       t-value  Pr > |t|            2.50%          97.50%\n",
       "──────────────────────────────────────────────────────────────────────────────────────────────\n",
       "(Intercept)   43194.2        53238.4       0.811336    0.4190   -62356.1             1.48745e5\n",
       "AC           -49477.1        22143.3      -2.2344      0.0276   -93378.4         -5575.78\n",
       "Horsepower     -165.039        321.383    -0.513526    0.6087     -802.212         472.135\n",
       "Weight           43.7454        22.426     1.95066     0.0537       -0.716271       88.2071\n",
       "FirmID: 2    -39800.2        30480.3      -1.30577     0.1945       -1.0023e5    20630.0\n",
       "FirmID: 3     55622.6        35227.2       1.57897     0.1173   -14218.8             1.25464e5\n",
       "FirmID: 4    -66911.7        35316.4      -1.89464     0.0609       -1.3693e5     3106.47\n",
       "FirmID: 5    -87150.6        42378.5      -2.05648     0.0422  -171170.0         -3131.15\n",
       "FirmID: 6    -23731.9        45804.9      -0.518107    0.6055       -1.14545e5   67080.8\n",
       "FirmID: 7    -62949.0        31419.0      -2.00353     0.0477       -1.2524e5     -657.75\n",
       "FirmID: 8      -748.111      44955.8      -0.016641    0.9868   -89877.4         88381.2\n",
       "FirmID: 9     13903.4        50820.7       0.273577    0.7849   -86853.6             1.1466e5\n",
       "FirmID: 10   -82169.2        38890.6      -2.11283     0.0370       -1.59274e5   -5064.89\n",
       "FirmID: 11   -45975.1        50936.8      -0.902591    0.3688       -1.46962e5   55012.1\n",
       "FirmID: 12    33199.1        58344.2       0.569022    0.5705   -82473.8             1.48872e5\n",
       "FirmID: 13       -1.00247e5  66321.0      -1.51154     0.1336       -2.31734e5   31241.3\n",
       "FirmID: 16   -70643.7        27595.8      -2.55994     0.0119       -1.25355e5  -15932.3\n",
       "FirmID: 18    19515.1        27910.0       0.699215    0.4859   -35819.1         74849.2\n",
       "FirmID: 19     3920.03       23878.3       0.164167    0.8699   -43421.1         51261.1\n",
       "FirmID: 20   -88168.9        66968.9      -1.31656     0.1908       -2.20941e5   44603.6\n",
       "FirmID: 21   -50560.7        49438.7      -1.02269     0.3088       -1.48578e5   47456.4\n",
       "FirmID: 22   -20242.8        52560.5      -0.385133    0.7009  -124449.0         83963.5\n",
       "FirmID: 23   -99214.2        67516.4      -1.46948     0.1447       -2.33072e5   34643.7\n",
       "x2               -2.51556        1.21766  -2.0659      0.0413       -4.9297         -0.101429\n",
       "──────────────────────────────────────────────────────────────────────────────────────────────"
      ]
     },
     "execution_count": 18,
     "metadata": {},
     "output_type": "execute_result"
    }
   ],
   "source": [
    "#### Perfect Collusion #### \n",
    "\n",
    "T2 = zeros(N,N)\n",
    "T2[1,1] = -(1/(df.δ[2]-df.δ[1])+1/df.δ[1])/(b-a)\n",
    "T2[1,2] = (1/(df.δ[2]-df.δ[1]))/(b-a)\n",
    "T2[N,N] = -(1/(df.δ[N]-df.δ[N-1]))/(b-a)\n",
    "T2[N,N-1] = (1/(df.δ[N]-df.δ[N-1]))/(b-a)\n",
    "\n",
    "for j in 2:(N-1)\n",
    "    x = min(1/(df.δ[j+1]-df.δ[j]),1000)\n",
    "    y = min(1/(df.δ[j]-df.δ[j-1]),1000)\n",
    "    T2[j,j] = -(x+y)/(b-a)\n",
    "    T2[j,j+1] = min((1/(df.δ[j+1]-df.δ[j]))/(b-a),1000)\n",
    "    T2[j,j-1] = min((1/(df.δ[j]-df.δ[j-1]))/(b-a),1000) \n",
    "end\n",
    "\n",
    "df.x2 = df.p + inv(T2)*df.s\n",
    "model2 = fit(EconometricModel,@formula(Quantity ~ (x2 ~ xi) + AC + Horsepower + Weight + FirmID),df,contrasts = Dict(:FirmID => DummyCoding()))\n"
   ]
  },
  {
   "cell_type": "code",
   "execution_count": null,
   "metadata": {},
   "outputs": [],
   "source": []
  }
 ],
 "metadata": {
  "kernelspec": {
   "display_name": "Julia 1.5.3",
   "language": "julia",
   "name": "julia-1.5"
  },
  "language_info": {
   "file_extension": ".jl",
   "mimetype": "application/julia",
   "name": "julia",
   "version": "1.5.3"
  }
 },
 "nbformat": 4,
 "nbformat_minor": 4
}
